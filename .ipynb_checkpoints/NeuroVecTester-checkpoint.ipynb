{
 "cells": [
  {
   "cell_type": "code",
   "execution_count": 2,
   "metadata": {},
   "outputs": [],
   "source": [
    "from nltk.tokenize import sent_tokenize, word_tokenize\n",
    "\n",
    "\n",
    "    "
   ]
  },
  {
   "cell_type": "code",
   "execution_count": 5,
   "metadata": {},
   "outputs": [],
   "source": [
    "def sentenceSplit(rawText, library = \"NLTK\"):\n",
    "    \"\"\"\n",
    "    Returns a list of sentences split using the specified library\n",
    "\n",
    "    @type  rawText: string\n",
    "    @param rawText: The text string to be seperated into sentences.\n",
    "    @type  library: string\n",
    "    @param library: The library to be used to split the sentences\n",
    "\n",
    "    @rtype:   list\n",
    "    @return:  list of split sentences returned from \n",
    "    \"\"\"\n",
    "    sentences = []\n",
    "    try:\n",
    "        if library == \"NLTK\":\n",
    "            sentences = sent_tokenize(rawText)\n",
    "        #TODO add in Spacy library\n",
    "        \n",
    "        return sentences\n",
    "    \n",
    "    except:\n",
    "        return None\n",
    "    \n",
    "    raise Exception(\"Invalid library condition set\")\n",
    "    \n",
    "\n",
    "\n",
    "def wordSplit(rawText, library = \"NLTK\"):\n",
    "    \"\"\"\n",
    "    Returns a list of tokenized words split using the specified library\n",
    "\n",
    "    @type  rawText: string\n",
    "    @param rawText: The text string to be seperated into words.\n",
    "    @type  library: string\n",
    "    @param library: The library to be used to split the sentences\n",
    "\n",
    "    @rtype:   list\n",
    "    @return:  list of split sentences returned from \n",
    "    \"\"\"\n",
    "    sentences = []\n",
    "    try:\n",
    "        if library == \"NLTK\":\n",
    "            sentences = sent_tokenize(rawText)\n",
    "        #TODO add in Spacy library\n",
    "        \n",
    "        return sentences\n",
    "    \n",
    "    except:\n",
    "        return None\n",
    "    \n",
    "    raise Exception(\"Invalid library condition set\")"
   ]
  },
  {
   "cell_type": "code",
   "execution_count": 8,
   "metadata": {},
   "outputs": [
    {
     "data": {
      "text/plain": [
       "['This is sentence 1.', 'And This is sentence 2.']"
      ]
     },
     "execution_count": 8,
     "metadata": {},
     "output_type": "execute_result"
    }
   ],
   "source": []
  },
  {
   "cell_type": "code",
   "execution_count": null,
   "metadata": {
    "collapsed": true
   },
   "outputs": [],
   "source": []
  }
 ],
 "metadata": {
  "kernelspec": {
   "display_name": "Python 3",
   "language": "python",
   "name": "python3"
  },
  "language_info": {
   "codemirror_mode": {
    "name": "ipython",
    "version": 3
   },
   "file_extension": ".py",
   "mimetype": "text/x-python",
   "name": "python",
   "nbconvert_exporter": "python",
   "pygments_lexer": "ipython3",
   "version": "3.6.3"
  }
 },
 "nbformat": 4,
 "nbformat_minor": 2
}
