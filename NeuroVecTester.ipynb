{
 "cells": [
  {
   "cell_type": "markdown",
   "metadata": {},
   "source": [
    "# NeuroVec "
   ]
  },
  {
   "cell_type": "code",
   "execution_count": 8,
   "metadata": {
    "collapsed": true
   },
   "outputs": [],
   "source": [
    "import NLP_Preprocessor as nlp\n",
    "import re \n",
    "\n",
    "import wikipediaapi\n",
    "\n",
    "import glob\n",
    "import pickle\n",
    "\n",
    "import time"
   ]
  },
  {
   "cell_type": "markdown",
   "metadata": {},
   "source": [
    "## Download dataset methods"
   ]
  },
  {
   "cell_type": "code",
   "execution_count": 5,
   "metadata": {
    "collapsed": true
   },
   "outputs": [],
   "source": [
    "stopLinks = [\"BBC\"]"
   ]
  },
  {
   "cell_type": "code",
   "execution_count": 11,
   "metadata": {},
   "outputs": [],
   "source": [
    "wiki = wikipediaapi.Wikipedia('en')\n",
    "\n",
    "def getLinks(title, layer, maxLayer,allTitles):\n",
    "    if layer <= maxLayer: # if its not the max layer\n",
    "        global stopLinks\n",
    "        if title not in allTitles and title not in stopLinks: # if it has not already been seen\n",
    "            allTitles[title] = 0 # add to dict of seen titles\n",
    "            if layer != maxLayer:\n",
    "                wikiPage = wiki.page(title) #get page\n",
    "                if len(wikiPage.links) > 500:\n",
    "                    print(len(wikiPage.links),\"\\t\",title)\n",
    "                for link in wikiPage.links: # for each link\n",
    "                    allTitles = getLinks(link,layer + 1,maxLayer,allTitles) # recurse\n",
    "    return allTitles\n",
    "    \n",
    "def getWikiTitles(title,saveLocation,allTitles, maxLayer):\n",
    "    \n",
    "    #getLinks\n",
    "    allTitles = getLinks(title, 0, maxLayer, allTitles)\n",
    "    return allTitles\n",
    "\n",
    "\n",
    "def downloadWikiData(allTitles,pagesPerFile = 100):\n",
    "    rawText = \"\"\n",
    "    for i,title in enumerate(allTitles.keys()):\n",
    "        #get the wikipage text\n",
    "        wikiPage = wiki.page(title)\n",
    "        rawText += wikiPage.text.replace(\"\\n\",\"\") + \"\\n\"\n",
    "        \n",
    "        #save the file\n",
    "        if i % pagesPerFile == 0:\n",
    "            print(i,len(rawText))\n",
    "            file = open(\"../Data/WikiData/\" + str(i) + \".txt\",\"w\",encoding=\"utf-8\")#saveLocation+title.replace(\" \",\"_\")+\".txt\", 'w')\n",
    "            file.write(rawText.replace(\"\\n\",\" \"))\n",
    "            file.close()\n",
    "            rawText = \"\"\n",
    "            \n",
    "    print(\"Final save\")\n",
    "    file = open(\"../Data/WikiData/final.txt\",\"w\",encoding=\"utf-8\")#saveLocation+title.replace(\" \",\"_\")+\".txt\", 'w')\n",
    "    file.write(rawText.replace(\"\\n\",\" \"))\n",
    "    file.close()"
   ]
  },
  {
   "cell_type": "markdown",
   "metadata": {},
   "source": [
    "## Downloading dataset"
   ]
  },
  {
   "cell_type": "code",
   "execution_count": 12,
   "metadata": {},
   "outputs": [
    {
     "name": "stdout",
     "output_type": "stream",
     "text": [
      "Neuroscience\n",
      "1225 \t Abiogenesis\n",
      "930 \t Ancient Egypt\n",
      "1081 \t Australia\n",
      "994 \t Austria\n",
      "697 \t Bat\n",
      "707 \t Biological Sciences\n",
      "530 \t Biopsychology\n",
      "Action Potential\n",
      "Brain Damage\n",
      "Brain Imaging\n",
      "Brain Science\n",
      "Brain\n",
      "9649\n"
     ]
    }
   ],
   "source": [
    "seedPages = [\"Neuroscience\".title(),\"Action potential\".title(),\"Brain damage\".title(),\"Brain imaging\".title(),\"Brain science\".title(),\"Brain\".title()]\n",
    "\n",
    "maxLayer = 2\n",
    "allTitles = dict()\n",
    "for page in seedPages:\n",
    "    print(page)\n",
    "    allTitles = getWikiTitles(page,\"../Data/WikiData/\",allTitles,maxLayer)\n",
    "\n",
    "print(len(allTitles))\n",
    "\n",
    "downloadWikiData(allTitles)\n"
   ]
  },
  {
   "cell_type": "markdown",
   "metadata": {},
   "source": [
    "# Word vector methods"
   ]
  },
  {
   "cell_type": "code",
   "execution_count": 16,
   "metadata": {},
   "outputs": [],
   "source": [
    "import WordEmbeddingGenerator as weg"
   ]
  },
  {
   "cell_type": "markdown",
   "metadata": {},
   "source": [
    "## Read dataset from files"
   ]
  },
  {
   "cell_type": "code",
   "execution_count": 45,
   "metadata": {},
   "outputs": [
    {
     "name": "stdout",
     "output_type": "stream",
     "text": [
      "Starting: ../Data/WikiData\\0.txt\n",
      "Finished: 1.600327491760254\n",
      "Starting: ../Data/WikiData\\100.txt\n",
      "Finished: 107.71434783935547\n",
      "Starting: ../Data/WikiData\\1000.txt\n",
      "Finished: 131.63911604881287\n",
      "Starting: ../Data/WikiData\\1100.txt\n",
      "Finished: 118.83508443832397\n",
      "Starting: ../Data/WikiData\\1200.txt\n",
      "Finished: 164.77854537963867\n",
      "Starting: ../Data/WikiData\\1300.txt\n",
      "Finished: 41.35242438316345\n",
      "Starting: ../Data/WikiData\\1400.txt\n",
      "Finished: 125.95520782470703\n",
      "Starting: ../Data/WikiData\\1500.txt\n",
      "Finished: 94.99117159843445\n",
      "Starting: ../Data/WikiData\\1600.txt\n",
      "Finished: 138.43317699432373\n",
      "Starting: ../Data/WikiData\\1700.txt\n",
      "Finished: 45.038585901260376\n",
      "Starting: ../Data/WikiData\\1800.txt\n",
      "Finished: 112.24390196800232\n",
      "Starting: ../Data/WikiData\\1900.txt\n",
      "Finished: 114.92317056655884\n",
      "Starting: ../Data/WikiData\\200.txt\n",
      "Finished: 133.84120345115662\n",
      "Starting: ../Data/WikiData\\2000.txt\n",
      "Finished: 119.8510103225708\n",
      "Starting: ../Data/WikiData\\2100.txt\n",
      "Finished: 116.6995358467102\n",
      "Starting: ../Data/WikiData\\2200.txt\n",
      "Finished: 147.05285716056824\n",
      "Starting: ../Data/WikiData\\2300.txt\n",
      "Finished: 148.45710396766663\n",
      "Starting: ../Data/WikiData\\2400.txt\n",
      "Finished: 128.23418545722961\n",
      "Starting: ../Data/WikiData\\2500.txt\n",
      "Finished: 103.98902630805969\n",
      "Starting: ../Data/WikiData\\2600.txt\n",
      "Finished: 106.15911960601807\n",
      "Starting: ../Data/WikiData\\2700.txt\n",
      "Finished: 109.49624991416931\n",
      "Starting: ../Data/WikiData\\2800.txt\n",
      "Finished: 103.70747065544128\n",
      "Starting: ../Data/WikiData\\2900.txt\n",
      "Finished: 135.0709080696106\n",
      "Starting: ../Data/WikiData\\300.txt\n",
      "Finished: 127.78335642814636\n",
      "Starting: ../Data/WikiData\\3000.txt\n",
      "Finished: 248.4657211303711\n",
      "Starting: ../Data/WikiData\\3100.txt\n",
      "Finished: 177.3408682346344\n",
      "Starting: ../Data/WikiData\\3200.txt\n",
      "Finished: 193.28821063041687\n",
      "Starting: ../Data/WikiData\\3300.txt\n",
      "Finished: 285.14360761642456\n",
      "Starting: ../Data/WikiData\\3400.txt\n",
      "Finished: 217.33691787719727\n",
      "Starting: ../Data/WikiData\\3500.txt\n",
      "Finished: 200.45544409751892\n",
      "Starting: ../Data/WikiData\\3600.txt\n",
      "Finished: 195.4193980693817\n",
      "Starting: ../Data/WikiData\\3700.txt\n",
      "Finished: 159.4516851902008\n",
      "Starting: ../Data/WikiData\\3800.txt\n",
      "Finished: 81.58898949623108\n",
      "Starting: ../Data/WikiData\\3900.txt\n",
      "Finished: 83.05205535888672\n",
      "Starting: ../Data/WikiData\\400.txt\n",
      "Finished: 134.0604763031006\n",
      "Starting: ../Data/WikiData\\4000.txt\n",
      "Finished: 68.27369499206543\n",
      "Starting: ../Data/WikiData\\4100.txt\n",
      "Finished: 118.91134524345398\n",
      "Starting: ../Data/WikiData\\4200.txt\n",
      "Finished: 168.63320922851562\n",
      "Starting: ../Data/WikiData\\4300.txt\n",
      "Finished: 172.83404231071472\n",
      "Starting: ../Data/WikiData\\4400.txt\n",
      "Finished: 221.6208004951477\n",
      "Starting: ../Data/WikiData\\4500.txt\n",
      "Finished: 165.37364053726196\n",
      "Starting: ../Data/WikiData\\4600.txt\n",
      "Finished: 194.85990023612976\n",
      "Starting: ../Data/WikiData\\4700.txt\n",
      "Finished: 260.27791380882263\n",
      "Starting: ../Data/WikiData\\4800.txt\n",
      "Finished: 142.3048837184906\n",
      "Starting: ../Data/WikiData\\4900.txt\n",
      "Finished: 212.27303671836853\n",
      "Starting: ../Data/WikiData\\500.txt\n",
      "Finished: 179.36743807792664\n",
      "Starting: ../Data/WikiData\\5000.txt\n",
      "Finished: 204.89833617210388\n",
      "Starting: ../Data/WikiData\\5100.txt\n",
      "Finished: 210.18403339385986\n",
      "Starting: ../Data/WikiData\\5200.txt\n",
      "Finished: 170.12319660186768\n",
      "Starting: ../Data/WikiData\\5300.txt\n",
      "Finished: 185.23271536827087\n",
      "Starting: ../Data/WikiData\\5400.txt\n",
      "Finished: 193.7908616065979\n",
      "Starting: ../Data/WikiData\\5500.txt\n",
      "Finished: 209.6869797706604\n",
      "Starting: ../Data/WikiData\\5600.txt\n",
      "Finished: 211.58533763885498\n",
      "Starting: ../Data/WikiData\\5700.txt\n",
      "Finished: 200.15087270736694\n",
      "Starting: ../Data/WikiData\\5800.txt\n",
      "Finished: 217.31003332138062\n",
      "Starting: ../Data/WikiData\\5900.txt\n",
      "Finished: 265.8397579193115\n",
      "Starting: ../Data/WikiData\\600.txt\n",
      "Finished: 134.02166485786438\n",
      "Starting: ../Data/WikiData\\6000.txt\n",
      "Finished: 162.8765308856964\n",
      "Starting: ../Data/WikiData\\6100.txt\n",
      "Finished: 73.06780290603638\n",
      "Starting: ../Data/WikiData\\6200.txt\n",
      "Finished: 78.19401860237122\n",
      "Starting: ../Data/WikiData\\6300.txt\n",
      "Finished: 121.14111709594727\n",
      "Starting: ../Data/WikiData\\6400.txt\n",
      "Finished: 110.50697541236877\n",
      "Starting: ../Data/WikiData\\6500.txt\n",
      "Finished: 86.20252656936646\n",
      "Starting: ../Data/WikiData\\6600.txt\n",
      "Finished: 168.4618537425995\n",
      "Starting: ../Data/WikiData\\6700.txt\n",
      "Finished: 143.73586106300354\n",
      "Starting: ../Data/WikiData\\6800.txt\n",
      "Finished: 133.62388014793396\n",
      "Starting: ../Data/WikiData\\6900.txt\n",
      "Finished: 135.14176678657532\n",
      "Starting: ../Data/WikiData\\700.txt\n",
      "Finished: 110.28859043121338\n",
      "Starting: ../Data/WikiData\\7000.txt\n",
      "Finished: 165.73996567726135\n",
      "Starting: ../Data/WikiData\\7100.txt\n",
      "Finished: 158.2707188129425\n",
      "Starting: ../Data/WikiData\\7200.txt\n",
      "Finished: 181.13275933265686\n",
      "Starting: ../Data/WikiData\\7300.txt\n",
      "Finished: 160.25642156600952\n",
      "Starting: ../Data/WikiData\\7400.txt\n",
      "Finished: 162.39240312576294\n",
      "Starting: ../Data/WikiData\\7500.txt\n",
      "Finished: 178.6014759540558\n",
      "Starting: ../Data/WikiData\\7600.txt\n",
      "Finished: 160.37313199043274\n",
      "Starting: ../Data/WikiData\\7700.txt\n",
      "Finished: 143.03557538986206\n",
      "Starting: ../Data/WikiData\\7800.txt\n",
      "Finished: 125.04357933998108\n",
      "Starting: ../Data/WikiData\\7900.txt\n",
      "Finished: 142.40789246559143\n",
      "Starting: ../Data/WikiData\\800.txt\n",
      "Finished: 125.3992612361908\n",
      "Starting: ../Data/WikiData\\8000.txt\n",
      "Finished: 114.92565369606018\n",
      "Starting: ../Data/WikiData\\8100.txt\n",
      "Finished: 158.8686044216156\n",
      "Starting: ../Data/WikiData\\8200.txt\n",
      "Finished: 119.63075423240662\n",
      "Starting: ../Data/WikiData\\8300.txt\n",
      "Finished: 141.8829915523529\n",
      "Starting: ../Data/WikiData\\8400.txt\n",
      "Finished: 102.72454166412354\n",
      "Starting: ../Data/WikiData\\8500.txt\n",
      "Finished: 102.3771858215332\n",
      "Starting: ../Data/WikiData\\8600.txt\n",
      "Finished: 96.55630850791931\n",
      "Starting: ../Data/WikiData\\8700.txt\n",
      "Finished: 108.9488832950592\n",
      "Starting: ../Data/WikiData\\8800.txt\n",
      "Finished: 85.0658597946167\n",
      "Starting: ../Data/WikiData\\8900.txt\n",
      "Finished: 176.95960021018982\n",
      "Starting: ../Data/WikiData\\900.txt\n",
      "Finished: 146.43076848983765\n",
      "Starting: ../Data/WikiData\\9000.txt\n",
      "Finished: 110.93482065200806\n",
      "Starting: ../Data/WikiData\\9100.txt\n",
      "Finished: 138.75986504554749\n",
      "Starting: ../Data/WikiData\\9200.txt\n",
      "Finished: 135.42396306991577\n",
      "Starting: ../Data/WikiData\\9300.txt\n",
      "Finished: 117.78465533256531\n",
      "Starting: ../Data/WikiData\\9400.txt\n",
      "Finished: 119.16642689704895\n",
      "Starting: ../Data/WikiData\\9500.txt\n",
      "Finished: 95.43884110450745\n",
      "Starting: ../Data/WikiData\\9600.txt\n",
      "Finished: 134.67116284370422\n",
      "Starting: ../Data/WikiData\\final.txt\n",
      "Finished: 9.860595464706421\n",
      "done\n"
     ]
    }
   ],
   "source": [
    "def getWordSentencesFromDocument(filename):\n",
    "    file = open(filename,\"r\",encoding=\"utf-8\")#saveLocation+title.replace(\" \",\"_\")+\".txt\", 'w')\n",
    "    rawText = file.read()\n",
    "    file.close()\n",
    "    rawText = rawText.lower()\n",
    "    #loading and cleansing data\n",
    "    START_TOKEN = 'START '\n",
    "    END_TOKEN = ' END'\n",
    "\n",
    "    #rHTMLtext = re.sub(\"\\\\[[0-9]+]\" , \" \", rawText)\n",
    "    rHTMLtext = re.sub(\"—\" , \"-\", rawText)\n",
    "    # replacing numbers\n",
    "    text = nlp.numberReplacer(rHTMLtext,replaceString=\" NUMBERS \")\n",
    "    #splitting out sentences\n",
    "    sentences = nlp.sentenceSplit(text)\n",
    "    #adding start and end token\n",
    "    sentences = [START_TOKEN + s + END_TOKEN for s in sentences]\n",
    "    #removing symbols\n",
    "    sentences = [nlp.symbolReplacer(s,extraChars=\"-\",replaceString=\" \") for s in sentences]\n",
    "    #splitting out words\n",
    "    wordSentences = [nlp.wordSplit(sentence) for sentence in sentences]\n",
    "    #removing stop words\n",
    "    wordSentences = [nlp.removeStopWords(sentence) for sentence in wordSentences]\n",
    "    #lemmatizing words\n",
    "    wordSentences = [nlp.lemmatizeWords(sent) for sent in wordSentences]\n",
    "    return wordSentences\n",
    "\n",
    "\n",
    "files = glob.glob(\"../Data/WikiData/*\")\n",
    "for file in files:\n",
    "    t0 = time.time()\n",
    "    print(\"Starting:\",file)\n",
    "    wordSentences = getWordSentencesFromDocument(file)\n",
    "    \n",
    "    with open(\"../Data/WikiDataProcessed/\"+file.split(\"\\\\\")[-1].split(\".\")[0]+\".pkl\", 'wb') as f:\n",
    "        pickle.dump(wordSentences, f)\n",
    "    \n",
    "    t1 = time.time()\n",
    "    total = t1-t0\n",
    "    print(\"Finished:\", total)\n",
    "print(\"done\")\n"
   ]
  },
  {
   "cell_type": "code",
   "execution_count": null,
   "metadata": {
    "scrolled": true
   },
   "outputs": [],
   "source": [
    "import numpy as np\n",
    "import matplotlib.pyplot as plt\n",
    "from sklearn.decomposition import TruncatedSVD\n",
    "from sklearn.decomposition import PCA\n",
    "\n",
    "wordSentences = []\n",
    "files = glob.glob(\"../Data/WikiDataProcessed/*\")\n",
    "for file in files[:5]:\n",
    "    print(file)\n",
    "    with open(file, 'rb') as f:\n",
    "        x = pickle.load(f)\n",
    "        wordSentences.extend(x)\n",
    "\n",
    "#creating vectors\n",
    "M_co_occurrence, word2Ind_co_occurrence = weg.compute_co_occurrence_matrix(wordSentences)\n",
    "\n",
    "M_reduced_co_occurrence = weg.reduce_to_k_dim(M_co_occurrence, k=2)\n",
    "\n",
    "# Rescale (normalize) the rows to make them each of unit-length\n",
    "M_lengths = np.linalg.norm(M_reduced_co_occurrence, axis=1)\n",
    "M_normalized = M_reduced_co_occurrence / M_lengths[:, np.newaxis] # broadcasting\n",
    "words = list(word2Ind_co_occurrence.keys())[0:30]\n",
    "weg.plot_embeddings(M_normalized, word2Ind_co_occurrence, words)"
   ]
  },
  {
   "cell_type": "markdown",
   "metadata": {},
   "source": [
    "# Word2Vec"
   ]
  },
  {
   "cell_type": "code",
   "execution_count": 94,
   "metadata": {},
   "outputs": [],
   "source": [
    "from gensim.models import Word2Vec\n",
    "from sklearn.decomposition import PCA\n",
    "from matplotlib import pyplot\n",
    "from sklearn.cluster import KMeans"
   ]
  },
  {
   "cell_type": "code",
   "execution_count": 27,
   "metadata": {},
   "outputs": [
    {
     "name": "stdout",
     "output_type": "stream",
     "text": [
      "../Data/WikiDataProcessed\\0.pkl\n",
      "../Data/WikiDataProcessed\\100.pkl\n",
      "../Data/WikiDataProcessed\\1000.pkl\n",
      "../Data/WikiDataProcessed\\1100.pkl\n",
      "../Data/WikiDataProcessed\\1200.pkl\n",
      "../Data/WikiDataProcessed\\1300.pkl\n",
      "../Data/WikiDataProcessed\\1400.pkl\n",
      "../Data/WikiDataProcessed\\1500.pkl\n",
      "../Data/WikiDataProcessed\\1600.pkl\n",
      "../Data/WikiDataProcessed\\1700.pkl\n",
      "../Data/WikiDataProcessed\\1800.pkl\n",
      "../Data/WikiDataProcessed\\1900.pkl\n",
      "../Data/WikiDataProcessed\\200.pkl\n",
      "../Data/WikiDataProcessed\\2000.pkl\n",
      "../Data/WikiDataProcessed\\2100.pkl\n",
      "../Data/WikiDataProcessed\\2200.pkl\n",
      "../Data/WikiDataProcessed\\2300.pkl\n",
      "../Data/WikiDataProcessed\\2400.pkl\n",
      "../Data/WikiDataProcessed\\2500.pkl\n",
      "../Data/WikiDataProcessed\\2600.pkl\n",
      "../Data/WikiDataProcessed\\2700.pkl\n",
      "../Data/WikiDataProcessed\\2800.pkl\n",
      "../Data/WikiDataProcessed\\2900.pkl\n",
      "../Data/WikiDataProcessed\\300.pkl\n",
      "../Data/WikiDataProcessed\\3000.pkl\n",
      "../Data/WikiDataProcessed\\3100.pkl\n",
      "../Data/WikiDataProcessed\\3200.pkl\n",
      "../Data/WikiDataProcessed\\3300.pkl\n",
      "../Data/WikiDataProcessed\\3400.pkl\n",
      "../Data/WikiDataProcessed\\3500.pkl\n",
      "../Data/WikiDataProcessed\\3600.pkl\n",
      "../Data/WikiDataProcessed\\3700.pkl\n",
      "../Data/WikiDataProcessed\\3800.pkl\n",
      "../Data/WikiDataProcessed\\3900.pkl\n",
      "../Data/WikiDataProcessed\\400.pkl\n",
      "../Data/WikiDataProcessed\\4000.pkl\n",
      "../Data/WikiDataProcessed\\4100.pkl\n",
      "../Data/WikiDataProcessed\\4200.pkl\n",
      "../Data/WikiDataProcessed\\4300.pkl\n",
      "../Data/WikiDataProcessed\\4400.pkl\n",
      "../Data/WikiDataProcessed\\4500.pkl\n",
      "../Data/WikiDataProcessed\\4600.pkl\n",
      "../Data/WikiDataProcessed\\4700.pkl\n",
      "../Data/WikiDataProcessed\\4800.pkl\n",
      "../Data/WikiDataProcessed\\4900.pkl\n",
      "../Data/WikiDataProcessed\\500.pkl\n",
      "../Data/WikiDataProcessed\\5000.pkl\n",
      "../Data/WikiDataProcessed\\5100.pkl\n",
      "../Data/WikiDataProcessed\\5200.pkl\n",
      "../Data/WikiDataProcessed\\5300.pkl\n",
      "../Data/WikiDataProcessed\\5400.pkl\n",
      "../Data/WikiDataProcessed\\5500.pkl\n",
      "../Data/WikiDataProcessed\\5600.pkl\n",
      "../Data/WikiDataProcessed\\5700.pkl\n",
      "../Data/WikiDataProcessed\\5800.pkl\n",
      "../Data/WikiDataProcessed\\5900.pkl\n",
      "../Data/WikiDataProcessed\\600.pkl\n",
      "../Data/WikiDataProcessed\\6000.pkl\n",
      "../Data/WikiDataProcessed\\6100.pkl\n",
      "../Data/WikiDataProcessed\\6200.pkl\n",
      "../Data/WikiDataProcessed\\6300.pkl\n",
      "../Data/WikiDataProcessed\\6400.pkl\n",
      "../Data/WikiDataProcessed\\6500.pkl\n",
      "../Data/WikiDataProcessed\\6600.pkl\n",
      "../Data/WikiDataProcessed\\6700.pkl\n",
      "../Data/WikiDataProcessed\\6800.pkl\n",
      "../Data/WikiDataProcessed\\6900.pkl\n",
      "../Data/WikiDataProcessed\\700.pkl\n",
      "../Data/WikiDataProcessed\\7000.pkl\n",
      "../Data/WikiDataProcessed\\7100.pkl\n",
      "../Data/WikiDataProcessed\\7200.pkl\n",
      "../Data/WikiDataProcessed\\7300.pkl\n",
      "../Data/WikiDataProcessed\\7400.pkl\n",
      "../Data/WikiDataProcessed\\7500.pkl\n",
      "../Data/WikiDataProcessed\\7600.pkl\n",
      "../Data/WikiDataProcessed\\7700.pkl\n",
      "../Data/WikiDataProcessed\\7800.pkl\n",
      "../Data/WikiDataProcessed\\7900.pkl\n",
      "../Data/WikiDataProcessed\\800.pkl\n",
      "../Data/WikiDataProcessed\\8000.pkl\n",
      "../Data/WikiDataProcessed\\8100.pkl\n",
      "../Data/WikiDataProcessed\\8200.pkl\n",
      "../Data/WikiDataProcessed\\8300.pkl\n",
      "../Data/WikiDataProcessed\\8400.pkl\n",
      "../Data/WikiDataProcessed\\8500.pkl\n",
      "../Data/WikiDataProcessed\\8600.pkl\n",
      "../Data/WikiDataProcessed\\8700.pkl\n",
      "../Data/WikiDataProcessed\\8800.pkl\n",
      "../Data/WikiDataProcessed\\8900.pkl\n",
      "../Data/WikiDataProcessed\\900.pkl\n",
      "../Data/WikiDataProcessed\\9000.pkl\n",
      "../Data/WikiDataProcessed\\9100.pkl\n",
      "../Data/WikiDataProcessed\\9200.pkl\n",
      "../Data/WikiDataProcessed\\9300.pkl\n",
      "../Data/WikiDataProcessed\\9400.pkl\n",
      "../Data/WikiDataProcessed\\9500.pkl\n",
      "../Data/WikiDataProcessed\\9600.pkl\n",
      "../Data/WikiDataProcessed\\final.pkl\n",
      "-----------------\n",
      "Files loaded\n",
      "-----------------\n",
      "Word2Vec(vocab=359544, size=100, alpha=0.025)\n",
      "359544\n",
      "[ 1.5584526   0.3047925  -0.7148679   4.0644903   2.0487566  -0.1468896\n",
      "  0.43680686 -0.96368814 -0.04759054  1.1845002   1.1682739  -0.2142607\n",
      " -0.30655843 -0.52143764  0.1714285   2.2636712   0.33128995  0.9798168\n",
      "  1.5626959   0.02249433  1.8029271   2.856772    1.8678637   2.3014235\n",
      " -1.3798267  -0.53947204 -0.48626688 -1.8855044   1.8667198   0.42650634\n",
      " -1.1590912   0.46069247 -0.3635853   2.8269255   1.4350775  -0.22987375\n",
      "  0.74788284 -1.1248443  -0.85600144  0.20982268 -0.95402724 -0.821665\n",
      "  0.446958    0.91272897  1.8385918  -2.1874204   0.5208938  -2.277708\n",
      " -1.1451498  -0.7307986  -1.0100327  -1.3895112  -0.6399741   0.66789985\n",
      "  0.63175946  0.7553481  -0.42169672  1.46208    -0.32810763 -0.16259395\n",
      " -1.0723641  -0.2878626  -3.1210606   0.28350782  0.00882473 -0.9690742\n",
      " -0.40739188  2.1678693  -3.656558    3.6470454   0.9251885  -2.177091\n",
      "  0.19323398 -3.106259   -0.9197656   0.904049    0.83163404  0.83650506\n",
      "  2.1278331   2.671919   -0.5058391  -0.402487    0.6133692   0.1804229\n",
      "  1.3255773   2.13382     3.5584831   1.8620166  -0.99580044  0.45680147\n",
      " -3.5244346  -0.7034881  -1.565701    1.4747334  -0.5032528   2.743086\n",
      "  2.4571695  -2.0646176   0.366203   -2.9973028 ]\n",
      "Saving word\n"
     ]
    },
    {
     "name": "stderr",
     "output_type": "stream",
     "text": [
      "C:\\Users\\Christian\\Anaconda3\\lib\\site-packages\\ipykernel_launcher.py:21: DeprecationWarning: Call to deprecated `__getitem__` (Method will be removed in 4.0.0, use self.wv.__getitem__() instead).\n"
     ]
    },
    {
     "name": "stdout",
     "output_type": "stream",
     "text": [
      "Done\n"
     ]
    }
   ],
   "source": [
    "wordSentences = []\n",
    "files = glob.glob(\"../Data/WikiDataProcessed/*\")\n",
    "\n",
    "#load in all files\n",
    "for file in files:\n",
    "    print(file)\n",
    "    with open(file, 'rb') as f:\n",
    "        x = pickle.load(f)\n",
    "        wordSentences.extend(x)\n",
    "\n",
    "print(\"-----------------\")\n",
    "print(\"Files loaded\")\n",
    "print(\"-----------------\")\n",
    "\n",
    "\n",
    "# train model\n",
    "model = Word2Vec(wordSentences, min_count=1)\n",
    "# summarize the loaded model\n",
    "print(model)\n",
    "# summarize vocabulary\n",
    "words = list(model.wv.vocab)\n",
    "print(len(words))\n",
    "# access vector for one word\n",
    "print(model['neuroscience'])\n",
    "print(\"Saving word\")\n",
    "# save model\n",
    "model.save('model.bin')\n",
    "# load model\n",
    "new_model = Word2Vec.load('model.bin')\n",
    "print(\"Done\")"
   ]
  },
  {
   "cell_type": "code",
   "execution_count": 20,
   "metadata": {},
   "outputs": [
    {
     "name": "stderr",
     "output_type": "stream",
     "text": [
      "C:\\Users\\Christian\\Anaconda3\\lib\\site-packages\\gensim\\matutils.py:737: FutureWarning: Conversion of the second argument of issubdtype from `int` to `np.signedinteger` is deprecated. In future, it will be treated as `np.int32 == np.dtype(int).type`.\n",
      "  if np.issubdtype(vec.dtype, np.int):\n"
     ]
    },
    {
     "data": {
      "text/plain": [
       "[('neurobiology', 0.8152838945388794),\n",
       " ('biology', 0.7514864206314087),\n",
       " ('integrative', 0.7447909116744995),\n",
       " ('biophysics', 0.7306403517723083),\n",
       " ('immunology', 0.7298644781112671),\n",
       " ('microbiology', 0.7219469547271729),\n",
       " ('neuroendocrinology', 0.7213983535766602),\n",
       " ('neuropsychology', 0.7202700972557068),\n",
       " ('neuroanatomy', 0.715740978717804),\n",
       " ('psychology', 0.7109661102294922)]"
      ]
     },
     "execution_count": 20,
     "metadata": {},
     "output_type": "execute_result"
    }
   ],
   "source": [
    "new_model = Word2Vec.load('model.bin')\n",
    "new_model.wv.most_similar('neuroscience')"
   ]
  },
  {
   "cell_type": "code",
   "execution_count": 136,
   "metadata": {},
   "outputs": [
    {
     "name": "stderr",
     "output_type": "stream",
     "text": [
      "C:\\Users\\Christian\\Anaconda3\\lib\\site-packages\\ipykernel_launcher.py:4: DeprecationWarning: Call to deprecated `most_similar` (Method will be removed in 4.0.0, use self.wv.most_similar() instead).\n",
      "  after removing the cwd from sys.path.\n",
      "C:\\Users\\Christian\\Anaconda3\\lib\\site-packages\\gensim\\matutils.py:737: FutureWarning: Conversion of the second argument of issubdtype from `int` to `np.signedinteger` is deprecated. In future, it will be treated as `np.int32 == np.dtype(int).type`.\n",
      "  if np.issubdtype(vec.dtype, np.int):\n"
     ]
    },
    {
     "data": {
      "text/plain": [
       "[('leukemia', 0.707366406917572),\n",
       " ('lymphoma', 0.7015130519866943),\n",
       " ('adenocarcinoma', 0.6902438998222351),\n",
       " ('anemia', 0.6882880330085754),\n",
       " ('disease', 0.6853922009468079),\n",
       " ('melanoma', 0.6839083433151245),\n",
       " ('tumor', 0.6826170682907104),\n",
       " ('non-hodgkin', 0.675466001033783),\n",
       " ('tuberculosis', 0.6659038066864014),\n",
       " ('tumour', 0.6652096509933472)]"
      ]
     },
     "execution_count": 136,
     "metadata": {},
     "output_type": "execute_result"
    }
   ],
   "source": [
    "#man : king :: woman : x\n",
    "#pprint.pprint(wv_from_bin.most_similar(positive=['woman', 'king'], negative=['man']))\n",
    "#new_model.most_similar(positive=[\"rna\",\"deoxyribonucleotide\"], negative=[\"dna\"])\n",
    "new_model.most_similar('cancer')"
   ]
  },
  {
   "cell_type": "code",
   "execution_count": 57,
   "metadata": {},
   "outputs": [
    {
     "name": "stderr",
     "output_type": "stream",
     "text": [
      "C:\\Users\\Christian\\Anaconda3\\lib\\site-packages\\ipykernel_launcher.py:6: DeprecationWarning: Call to deprecated `__getitem__` (Method will be removed in 4.0.0, use self.wv.__getitem__() instead).\n",
      "  \n"
     ]
    },
    {
     "data": {
      "image/png": "[encoded data removed]",
      "text/plain": [
       "<matplotlib.figure.Figure at 0x265dc96e4e0>"
      ]
     },
     "metadata": {},
     "output_type": "display_data"
    }
   ],
   "source": [
    "\n",
    "\n",
    "# fit a 2d PCA model to the vectors\n",
    "X = new_model[new_model.wv.vocab]\n",
    "pca = PCA(n_components=2)\n",
    "result = pca.fit_transform(X)\n",
    "# create a scatter plot of the projection\n",
    "pyplot.scatter(result[:, 0], result[:, 1])\n",
    "words = list(new_model.wv.vocab)\n",
    "for i, word in enumerate(words[150:200]):\n",
    "    pyplot.annotate(word, xy=(result[i, 0], result[i, 1]))\n",
    "pyplot.show()"
   ]
  },
  {
   "cell_type": "code",
   "execution_count": 119,
   "metadata": {},
   "outputs": [
    {
     "name": "stderr",
     "output_type": "stream",
     "text": [
      "C:\\Users\\Christian\\Anaconda3\\lib\\site-packages\\ipykernel_launcher.py:10: DeprecationWarning: Call to deprecated `__getitem__` (Method will be removed in 4.0.0, use self.wv.__getitem__() instead).\n",
      "  # Remove the CWD from sys.path while we load stuff.\n"
     ]
    },
    {
     "data": {
      "image/png": "[encoded data removed]",
      "text/plain": [
       "<matplotlib.figure.Figure at 0x284334e3fd0>"
      ]
     },
     "metadata": {},
     "output_type": "display_data"
    }
   ],
   "source": [
    "neurotransmitters = ['dopamine','acetylcholine','glutamate','gaba','oxytocin']\n",
    "partsOfNeuron = ['dendrite','axon','neuron','nucleus']\n",
    "partsOfBody = ['lung','kidney','stomach','bladder','pancreas','liver']\n",
    "partsOfBrain = ['cerebrum','cerebellum','brainstem','parietal','hippocampus']\n",
    "\n",
    "words = neurotransmitters + partsOfBody + partsOfBrain + partsOfNeuron\n",
    "numGroups = 4\n",
    "\n",
    "# fit a 2d PCA model to the vectors\n",
    "X = new_model[words]\n",
    "pca = PCA(n_components=2)\n",
    "result = pca.fit_transform(X)\n",
    "\n",
    "kmeans = KMeans(n_clusters=numGroups, random_state=1).fit(result)\n",
    "\n",
    "# create a scatter plot of the projection\n",
    "y_kmeans = kmeans.predict(result)\n",
    "plt.scatter(result[:, 0], result[:, 1], c=y_kmeans, s=50, cmap='viridis')\n",
    "\n",
    "centers = kmeans.cluster_centers_\n",
    "plt.scatter(centers[:, 0], centers[:, 1], c='black', s=200, alpha=0.25);    \n",
    "\n",
    "for i, word in enumerate(words):\n",
    "    pyplot.annotate(word, xy=(result[i, 0], result[i, 1]))\n",
    "pyplot.show()"
   ]
  },
  {
   "cell_type": "code",
   "execution_count": 105,
   "metadata": {},
   "outputs": [
    {
     "name": "stderr",
     "output_type": "stream",
     "text": [
      "C:\\Users\\Christian\\Anaconda3\\lib\\site-packages\\ipykernel_launcher.py:23: DeprecationWarning: Call to deprecated `most_similar` (Method will be removed in 4.0.0, use self.wv.most_similar() instead).\n",
      "C:\\Users\\Christian\\Anaconda3\\lib\\site-packages\\gensim\\matutils.py:737: FutureWarning: Conversion of the second argument of issubdtype from `int` to `np.signedinteger` is deprecated. In future, it will be treated as `np.int32 == np.dtype(int).type`.\n",
      "  if np.issubdtype(vec.dtype, np.int):\n"
     ]
    },
    {
     "name": "stdout",
     "output_type": "stream",
     "text": [
      "0.7845723679959774\n",
      "0.09306095669763831\n",
      "9504 10000 0.9504\n"
     ]
    }
   ],
   "source": [
    "#calculating average similarity index for top 10 most similar words\n",
    "words = list(new_model.wv.vocab)\n",
    "\n",
    "\n",
    "numWords = 10000\n",
    "topN = 1\n",
    "array = np.zeros(numWords*topN)\n",
    "\n",
    "#top 10\n",
    "#.752 mean\n",
    "#.1 std\n",
    "\n",
    "#top 3\n",
    "#.777 mean\n",
    "#.097 std\n",
    "\n",
    "#top 1\n",
    "# mean\n",
    "# std\n",
    "count = 0\n",
    "cutOff = .62\n",
    "for i, word in enumerate(words[:numWords]):\n",
    "    similarWords = [word[1] for word in new_model.most_similar(word)]\n",
    "    for w in range(0,topN):\n",
    "        array[i*topN+w] = similarWords[w]\n",
    "    if similarWords[0] > cutOff:\n",
    "        count +=1\n",
    "print(array.mean())\n",
    "print(array.std())\n",
    "print(count,numWords,float(count/numWords))"
   ]
  },
  {
   "cell_type": "code",
   "execution_count": null,
   "metadata": {
    "collapsed": true
   },
   "outputs": [],
   "source": []
  },
  {
   "cell_type": "code",
   "execution_count": 137,
   "metadata": {},
   "outputs": [
    {
     "name": "stdout",
     "output_type": "stream",
     "text": [
      "Words to complete: 359544\n",
      "0 finished: 0.012965917587280273\n"
     ]
    },
    {
     "name": "stderr",
     "output_type": "stream",
     "text": [
      "C:\\Users\\Christian\\Anaconda3\\lib\\site-packages\\ipykernel_launcher.py:10: DeprecationWarning: Call to deprecated `most_similar` (Method will be removed in 4.0.0, use self.wv.most_similar() instead).\n",
      "  # Remove the CWD from sys.path while we load stuff.\n",
      "C:\\Users\\Christian\\Anaconda3\\lib\\site-packages\\gensim\\matutils.py:737: FutureWarning: Conversion of the second argument of issubdtype from `int` to `np.signedinteger` is deprecated. In future, it will be treated as `np.int32 == np.dtype(int).type`.\n",
      "  if np.issubdtype(vec.dtype, np.int):\n"
     ]
    },
    {
     "name": "stdout",
     "output_type": "stream",
     "text": [
      "25000 finished: 300.19369292259216\n",
      "50000 finished: 601.5955300331116\n",
      "75000 finished: 901.1603078842163\n",
      "100000 finished: 1199.6700093746185\n",
      "125000 finished: 1499.086210489273\n",
      "150000 finished: 1802.0755140781403\n",
      "175000 finished: 2099.855563402176\n",
      "200000 finished: 2397.075653553009\n",
      "225000 finished: 2693.831305742264\n",
      "250000 finished: 2991.678254365921\n",
      "275000 finished: 3289.719118118286\n",
      "300000 finished: 3586.9615936279297\n",
      "325000 finished: 3882.887644290924\n",
      "350000 finished: 4179.349249839783\n",
      "Finished: 4292.849670171738\n"
     ]
    }
   ],
   "source": [
    "import networkx as nx\n",
    "\n",
    "cutOff = .62\n",
    "#instantiating graph\n",
    "G = nx.DiGraph()\n",
    "words = list(new_model.wv.vocab)\n",
    "print(\"Words to complete:\",len(words))\n",
    "t0 = time.time()\n",
    "for i, word in enumerate(words):\n",
    "    for w in new_model.most_similar(word):\n",
    "        if w[1] > cutOff:\n",
    "            G.add_edge(word,w[0])\n",
    "    if i % 25000 == 0:\n",
    "        t1 = time.time()\n",
    "        total = t1-t0\n",
    "        print(i, \"finished:\", total)\n",
    "t1 = time.time()\n",
    "total = t1-t0\n",
    "print(\"Finished:\", total)"
   ]
  },
  {
   "cell_type": "code",
   "execution_count": 138,
   "metadata": {
    "collapsed": true
   },
   "outputs": [],
   "source": [
    "G.remove_edges_from(G.selfloop_edges())\n",
    "duplicates = [(node, node + \"s\") for node in G if node + \"s\" in G]\n",
    "for dup in duplicates:\n",
    "    G = nx.contracted_nodes(G, *dup, self_loops=False)\n",
    "duplicates = [(x, y) for x, y \n",
    "              in [(node, node.replace(\"-\", \" \")) for node in G]\n",
    "              if x != y and y in G]\n",
    "for dup in duplicates:\n",
    "    G = nx.contracted_nodes(G, *dup, self_loops=False)\n",
    "nx.set_node_attributes(G, 0, \"contraction\")"
   ]
  },
  {
   "cell_type": "code",
   "execution_count": 142,
   "metadata": {},
   "outputs": [
    {
     "name": "stdout",
     "output_type": "stream",
     "text": [
      "14664 nodes, 125529 edges\n"
     ]
    }
   ],
   "source": [
    "core = [node for node, deg in dict(G.degree()).items() if deg >= 50]\n",
    "G2 = nx.subgraph(G, core)\n",
    "print(\"{} nodes, {} edges\".format(len(G2), nx.number_of_edges(G2)))\n",
    "# 2995 nodes, 11817 edges\n",
    "nx.write_graphml(G2, \"../Data/graphFile_Neuroscience_Deg_greaterthan_50.graphml\")"
   ]
  },
  {
   "cell_type": "code",
   "execution_count": null,
   "metadata": {
    "collapsed": true
   },
   "outputs": [],
   "source": []
  }
 ],
 "metadata": {
  "kernelspec": {
   "display_name": "Python 3",
   "language": "python",
   "name": "python3"
  },
  "language_info": {
   "codemirror_mode": {
    "name": "ipython",
    "version": 3
   },
   "file_extension": ".py",
   "mimetype": "text/x-python",
   "name": "python",
   "nbconvert_exporter": "python",
   "pygments_lexer": "ipython3",
   "version": "3.6.3"
  }
 },
 "nbformat": 4,
 "nbformat_minor": 2
}
